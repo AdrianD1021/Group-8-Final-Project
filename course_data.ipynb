{
 "cells": [
  {
   "cell_type": "code",
   "execution_count": 14,
   "id": "68a53c03-80e4-48f9-9d59-0e98b069d12b",
   "metadata": {},
   "outputs": [],
   "source": [
    "import pandas as pd\n",
    "import matplotlib.pyplot as plt\n",
    "import sklearn as skl\n",
    "\n",
    "import nltk\n",
    "from nltk.corpus import stopwords\n",
    "from nltk.tokenize import word_tokenize\n",
    "from nltk.stem import WordNetLemmatizer"
   ]
  },
  {
   "cell_type": "code",
   "execution_count": 24,
   "id": "e79998d8-e982-4253-8bb1-286e64293dc2",
   "metadata": {},
   "outputs": [
    {
     "name": "stderr",
     "output_type": "stream",
     "text": [
      "[nltk_data] Downloading package udhr to\n",
      "[nltk_data]     C:\\Users\\rober\\AppData\\Roaming\\nltk_data...\n",
      "[nltk_data]   Unzipping corpora\\udhr.zip.\n"
     ]
    },
    {
     "data": {
      "text/plain": [
       "True"
      ]
     },
     "execution_count": 24,
     "metadata": {},
     "output_type": "execute_result"
    }
   ],
   "source": [
    "# nltk.download('udhr')"
   ]
  },
  {
   "cell_type": "code",
   "execution_count": 25,
   "id": "9796ecea-2306-42dc-b56a-954d05ba9ab1",
   "metadata": {},
   "outputs": [
    {
     "name": "stdout",
     "output_type": "stream",
     "text": [
      "\n",
      "\n",
      "******************************\n",
      "Demo for the Snowball stemmers\n",
      "******************************\n"
     ]
    },
    {
     "name": "stdin",
     "output_type": "stream",
     "text": [
      "Please enter the name of the language to be demonstrated\n",
      "arabic/danish/dutch/english/finnish/french/german/hungarian/italian/norwegian/porter/portuguese/romanian/russian/spanish/swedish\n",
      "(enter 'exit' in order to leave):  english\n"
     ]
    },
    {
     "name": "stdout",
     "output_type": "stream",
     "text": [
      "\n",
      "\n",
      "----------------------------------------------------------------------\n",
      "                               ORIGINAL                               \n",
      "Universal Declaration of Human Rights Preamble Whereas recognition of\n",
      "the inherent dignity and of the equal and inalienable rights of all\n",
      "members of the human family is the foundation of freedom , justice and\n",
      "peace in the world , Whereas disregard and contempt for human rights\n",
      "have resulted in barbarous acts which have outraged the conscience of\n",
      "mankind , and the advent of a world in which human beings shall enjoy\n",
      "freedom of speech and belief and freedom from fear and want has been\n",
      "proclaimed as the highest aspiration of the common people , Whereas it\n",
      "is essential , if man is not to be compelled to have recourse , as a\n",
      "last resort , to rebellion against tyranny and oppression , that human\n",
      "rights should be protected by the rule of law , Whereas it is\n",
      "essential to promote the development of friendly relations between\n",
      "nations , Whereas the peoples of the United Nations have in the\n",
      "Charter reaffirmed their faith in fundamental human rights , in the\n",
      "dignity and worth of the human person and in the equal rights of men\n",
      "and women and have determined to promote social progress and better\n",
      "standards of life in larger freedom , Whereas Member States have\n",
      "pledged themselves to achieve , in cooperation with the United Nations\n",
      ", the promotion of universal respect for and observance of human\n",
      "rights and fundamental freedoms , Whereas a common understanding of\n",
      "these rights and freedoms is of the greatest importance for the full\n",
      "realization of this pledge , Now , therefore , The General Assembly ,\n",
      "Proclaims this Universal Declaration of Human Rights as a common\n",
      "standard of achievement for all peoples and all nations , to the end\n",
      "that every individual and every organ of society , keeping this\n",
      "Declaration constantly in mind\n",
      "\n",
      "\n",
      "\n",
      "                           STEMMED RESULTS                            \n",
      "univers declar of human right preambl wherea recognit of the inher\n",
      "digniti and of the equal and inalien right of all member of the human\n",
      "famili is the foundat of freedom , justic and peac in the world ,\n",
      "wherea disregard and contempt for human right have result in barbar\n",
      "act which have outrag the conscienc of mankind , and the advent of a\n",
      "world in which human be shall enjoy freedom of speech and belief and\n",
      "freedom from fear and want has been proclaim as the highest aspir of\n",
      "the common peopl , wherea it is essenti , if man is not to be compel\n",
      "to have recours , as a last resort , to rebellion against tyranni and\n",
      "oppress , that human right should be protect by the rule of law ,\n",
      "wherea it is essenti to promot the develop of friend relat between\n",
      "nation , wherea the peopl of the unit nation have in the charter\n",
      "reaffirm their faith in fundament human right , in the digniti and\n",
      "worth of the human person and in the equal right of men and women and\n",
      "have determin to promot social progress and better standard of life in\n",
      "larger freedom , wherea member state have pledg themselv to achiev ,\n",
      "in cooper with the unit nation , the promot of univers respect for and\n",
      "observ of human right and fundament freedom , wherea a common\n",
      "understand of these right and freedom is of the greatest import for\n",
      "the full realize of this pledg , now , therefor , the general assembl\n",
      ", proclaim this univers declar of human right as a common standard of\n",
      "achiev for all peopl and all nation , to the end that everi individu\n",
      "and everi organ of societi , keep this declar constant in mind\n",
      "----------------------------------------------------------------------\n",
      "\n",
      "\n"
     ]
    },
    {
     "name": "stdin",
     "output_type": "stream",
     "text": [
      "Please enter the name of the language to be demonstrated\n",
      "arabic/danish/dutch/english/finnish/french/german/hungarian/italian/norwegian/porter/portuguese/romanian/russian/spanish/swedish\n",
      "(enter 'exit' in order to leave):  exit\n"
     ]
    }
   ],
   "source": [
    "# nltk.stem.snowball.demo()"
   ]
  },
  {
   "cell_type": "code",
   "execution_count": 3,
   "id": "213a2533-2bbe-4b46-85d1-a97d94bd687e",
   "metadata": {},
   "outputs": [
    {
     "data": {
      "text/html": [
       "<div>\n",
       "<style scoped>\n",
       "    .dataframe tbody tr th:only-of-type {\n",
       "        vertical-align: middle;\n",
       "    }\n",
       "\n",
       "    .dataframe tbody tr th {\n",
       "        vertical-align: top;\n",
       "    }\n",
       "\n",
       "    .dataframe thead th {\n",
       "        text-align: right;\n",
       "    }\n",
       "</style>\n",
       "<table border=\"1\" class=\"dataframe\">\n",
       "  <thead>\n",
       "    <tr style=\"text-align: right;\">\n",
       "      <th></th>\n",
       "      <th>SrNo</th>\n",
       "      <th>Name Of the Program</th>\n",
       "      <th>Type of Course</th>\n",
       "      <th>Code</th>\n",
       "      <th>Need</th>\n",
       "      <th>Description of the need</th>\n",
       "    </tr>\n",
       "  </thead>\n",
       "  <tbody>\n",
       "    <tr>\n",
       "      <th>0</th>\n",
       "      <td>1</td>\n",
       "      <td>BA (Geography)</td>\n",
       "      <td>Environmental studies</td>\n",
       "      <td>UGEVS101</td>\n",
       "      <td>Local, Regional, National and Global</td>\n",
       "      <td>To make student understand the distribution, u...</td>\n",
       "    </tr>\n",
       "    <tr>\n",
       "      <th>1</th>\n",
       "      <td>2</td>\n",
       "      <td>BA (Geography)</td>\n",
       "      <td>Environmental studies</td>\n",
       "      <td>UGEVS201</td>\n",
       "      <td>Local, Regional, National and Global</td>\n",
       "      <td>Examining historical and current environmental...</td>\n",
       "    </tr>\n",
       "    <tr>\n",
       "      <th>2</th>\n",
       "      <td>3</td>\n",
       "      <td>BA (Geography)</td>\n",
       "      <td>Environmental Science-I</td>\n",
       "      <td>UGESlOl</td>\n",
       "      <td>Local, Regional, National and Global</td>\n",
       "      <td>To make student understand the distribution, u...</td>\n",
       "    </tr>\n",
       "    <tr>\n",
       "      <th>3</th>\n",
       "      <td>4</td>\n",
       "      <td>BA (Geography)</td>\n",
       "      <td>Environmental Science-II</td>\n",
       "      <td>UGES201</td>\n",
       "      <td>Local, Regional, National and Global</td>\n",
       "      <td>Managing waste is critical for preventing envi...</td>\n",
       "    </tr>\n",
       "    <tr>\n",
       "      <th>4</th>\n",
       "      <td>5</td>\n",
       "      <td>BA (Geography)</td>\n",
       "      <td>Fundamentals of Geomorphology</td>\n",
       "      <td>UGGEO101</td>\n",
       "      <td>Local, Regional, National and Global</td>\n",
       "      <td>These geological processes shape the Earth's s...</td>\n",
       "    </tr>\n",
       "  </tbody>\n",
       "</table>\n",
       "</div>"
      ],
      "text/plain": [
       "   SrNo Name Of the Program                 Type of Course      Code  \\\n",
       "0     1      BA (Geography)          Environmental studies  UGEVS101   \n",
       "1     2      BA (Geography)          Environmental studies  UGEVS201   \n",
       "2     3      BA (Geography)        Environmental Science-I   UGESlOl   \n",
       "3     4      BA (Geography)       Environmental Science-II   UGES201   \n",
       "4     5      BA (Geography)  Fundamentals of Geomorphology  UGGEO101   \n",
       "\n",
       "                                   Need  \\\n",
       "0  Local, Regional, National and Global   \n",
       "1  Local, Regional, National and Global   \n",
       "2  Local, Regional, National and Global   \n",
       "3  Local, Regional, National and Global   \n",
       "4  Local, Regional, National and Global   \n",
       "\n",
       "                             Description of the need  \n",
       "0  To make student understand the distribution, u...  \n",
       "1  Examining historical and current environmental...  \n",
       "2  To make student understand the distribution, u...  \n",
       "3  Managing waste is critical for preventing envi...  \n",
       "4  These geological processes shape the Earth's s...  "
      ]
     },
     "execution_count": 3,
     "metadata": {},
     "output_type": "execute_result"
    }
   ],
   "source": [
    "course_data_df = pd.read_csv('Course Relevance Dataset.csv', encoding='latin-1')\n",
    "course_data_df.head()"
   ]
  },
  {
   "cell_type": "code",
   "execution_count": 12,
   "id": "d8fb654b-4702-49e9-8be4-fefa50d7dc15",
   "metadata": {},
   "outputs": [
    {
     "name": "stdout",
     "output_type": "stream",
     "text": [
      "SrNo                       0\n",
      "Name Of the Program        0\n",
      "Type of Course             0\n",
      "Code                       0\n",
      "Need                       1\n",
      "Description of the need    0\n",
      "dtype: int64\n"
     ]
    }
   ],
   "source": [
    "row_nan_count = course_data_df.isnull().sum()\n",
    "print(row_nan_count)"
   ]
  },
  {
   "cell_type": "code",
   "execution_count": 15,
   "id": "14af7fc6-5293-4ec1-82df-d5371e49443a",
   "metadata": {},
   "outputs": [
    {
     "name": "stderr",
     "output_type": "stream",
     "text": [
      "[nltk_data] Downloading package punkt to\n",
      "[nltk_data]     C:\\Users\\rober\\AppData\\Roaming\\nltk_data...\n",
      "[nltk_data]   Unzipping tokenizers\\punkt.zip.\n",
      "[nltk_data] Downloading package stopwords to\n",
      "[nltk_data]     C:\\Users\\rober\\AppData\\Roaming\\nltk_data...\n",
      "[nltk_data]   Unzipping corpora\\stopwords.zip.\n",
      "[nltk_data] Downloading package wordnet to\n",
      "[nltk_data]     C:\\Users\\rober\\AppData\\Roaming\\nltk_data...\n"
     ]
    },
    {
     "data": {
      "text/plain": [
       "True"
      ]
     },
     "execution_count": 15,
     "metadata": {},
     "output_type": "execute_result"
    }
   ],
   "source": [
    "#  NLTK data - Only need to run once (I think).\n",
    "nltk.download('punkt')\n",
    "nltk.download('stopwords')\n",
    "nltk.download('wordnet')"
   ]
  },
  {
   "cell_type": "code",
   "execution_count": 19,
   "id": "0f0c5403-b081-4fa3-8853-c4c1075c3142",
   "metadata": {},
   "outputs": [
    {
     "data": {
      "text/html": [
       "<div>\n",
       "<style scoped>\n",
       "    .dataframe tbody tr th:only-of-type {\n",
       "        vertical-align: middle;\n",
       "    }\n",
       "\n",
       "    .dataframe tbody tr th {\n",
       "        vertical-align: top;\n",
       "    }\n",
       "\n",
       "    .dataframe thead th {\n",
       "        text-align: right;\n",
       "    }\n",
       "</style>\n",
       "<table border=\"1\" class=\"dataframe\">\n",
       "  <thead>\n",
       "    <tr style=\"text-align: right;\">\n",
       "      <th></th>\n",
       "      <th>Description of the need</th>\n",
       "      <th>processed_description</th>\n",
       "    </tr>\n",
       "  </thead>\n",
       "  <tbody>\n",
       "    <tr>\n",
       "      <th>0</th>\n",
       "      <td>To make student understand the distribution, u...</td>\n",
       "      <td>make student understand distribution utilizati...</td>\n",
       "    </tr>\n",
       "    <tr>\n",
       "      <th>1</th>\n",
       "      <td>Examining historical and current environmental...</td>\n",
       "      <td>examining historical current environmental mov...</td>\n",
       "    </tr>\n",
       "    <tr>\n",
       "      <th>2</th>\n",
       "      <td>To make student understand the distribution, u...</td>\n",
       "      <td>make student understand distribution utilizati...</td>\n",
       "    </tr>\n",
       "    <tr>\n",
       "      <th>3</th>\n",
       "      <td>Managing waste is critical for preventing envi...</td>\n",
       "      <td>managing waste critical preventing environment...</td>\n",
       "    </tr>\n",
       "    <tr>\n",
       "      <th>4</th>\n",
       "      <td>These geological processes shape the Earth's s...</td>\n",
       "      <td>geological process shape earth surface underst...</td>\n",
       "    </tr>\n",
       "  </tbody>\n",
       "</table>\n",
       "</div>"
      ],
      "text/plain": [
       "                             Description of the need  \\\n",
       "0  To make student understand the distribution, u...   \n",
       "1  Examining historical and current environmental...   \n",
       "2  To make student understand the distribution, u...   \n",
       "3  Managing waste is critical for preventing envi...   \n",
       "4  These geological processes shape the Earth's s...   \n",
       "\n",
       "                               processed_description  \n",
       "0  make student understand distribution utilizati...  \n",
       "1  examining historical current environmental mov...  \n",
       "2  make student understand distribution utilizati...  \n",
       "3  managing waste critical preventing environment...  \n",
       "4  geological process shape earth surface underst...  "
      ]
     },
     "execution_count": 19,
     "metadata": {},
     "output_type": "execute_result"
    }
   ],
   "source": [
    "# https://www.nltk.org/_modules/nltk/stem/wordnet.html\n",
    "lemmatizer = WordNetLemmatizer()\n",
    "\n",
    "# Process text\n",
    "def preprocess_text(text):\n",
    "    # Tokenize text\n",
    "    tokens = word_tokenize(text.lower())\n",
    "    # Remove stopwords and numbers\n",
    "    tokens = [word for word in tokens if word.isalpha() and word not in stopwords.words('english')]\n",
    "    # Lemmatize tokens\n",
    "    tokens = [lemmatizer.lemmatize(word) for word in tokens]\n",
    "    return ' '.join(tokens)\n",
    "\n",
    "# Run function and add to processed column\n",
    "course_data_df['processed_description'] = course_data_df['Description of the need'].apply(preprocess_text)\n",
    "\n",
    "course_data_df[['Description of the need', 'processed_description']].head()"
   ]
  },
  {
   "cell_type": "code",
   "execution_count": 35,
   "id": "1e8add34-63a9-4f58-94cb-3de149ea8d09",
   "metadata": {},
   "outputs": [
    {
     "name": "stdout",
     "output_type": "stream",
     "text": [
      "described\n"
     ]
    }
   ],
   "source": [
    "print(lemmatizer.lemmatize('described'))"
   ]
  },
  {
   "cell_type": "code",
   "execution_count": null,
   "id": "b47f4b07-dd94-4623-98c8-871c903f8580",
   "metadata": {},
   "outputs": [],
   "source": []
  }
 ],
 "metadata": {
  "kernelspec": {
   "display_name": "Python 3 (ipykernel)",
   "language": "python",
   "name": "python3"
  },
  "language_info": {
   "codemirror_mode": {
    "name": "ipython",
    "version": 3
   },
   "file_extension": ".py",
   "mimetype": "text/x-python",
   "name": "python",
   "nbconvert_exporter": "python",
   "pygments_lexer": "ipython3",
   "version": "3.11.5"
  }
 },
 "nbformat": 4,
 "nbformat_minor": 5
}
