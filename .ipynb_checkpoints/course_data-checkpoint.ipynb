{
 "cells": [
  {
   "cell_type": "code",
   "execution_count": 1,
   "id": "68a53c03-80e4-48f9-9d59-0e98b069d12b",
   "metadata": {},
   "outputs": [],
   "source": [
    "import pandas as pd\n",
    "import matplotlib.pyplot as plt\n",
    "import sklearn as skl\n",
    "import tensorflow as tf"
   ]
  },
  {
   "cell_type": "code",
   "execution_count": 2,
   "id": "213a2533-2bbe-4b46-85d1-a97d94bd687e",
   "metadata": {},
   "outputs": [
    {
     "data": {
      "text/html": [
       "<div>\n",
       "<style scoped>\n",
       "    .dataframe tbody tr th:only-of-type {\n",
       "        vertical-align: middle;\n",
       "    }\n",
       "\n",
       "    .dataframe tbody tr th {\n",
       "        vertical-align: top;\n",
       "    }\n",
       "\n",
       "    .dataframe thead th {\n",
       "        text-align: right;\n",
       "    }\n",
       "</style>\n",
       "<table border=\"1\" class=\"dataframe\">\n",
       "  <thead>\n",
       "    <tr style=\"text-align: right;\">\n",
       "      <th></th>\n",
       "      <th>SrNo</th>\n",
       "      <th>Name Of the Program</th>\n",
       "      <th>Type of Course</th>\n",
       "      <th>Code</th>\n",
       "      <th>Need</th>\n",
       "      <th>Description of the need</th>\n",
       "    </tr>\n",
       "  </thead>\n",
       "  <tbody>\n",
       "    <tr>\n",
       "      <th>0</th>\n",
       "      <td>1</td>\n",
       "      <td>BA (Geography)</td>\n",
       "      <td>Environmental studies</td>\n",
       "      <td>UGEVS101</td>\n",
       "      <td>Local, Regional, National and Global</td>\n",
       "      <td>To make student understand the distribution, u...</td>\n",
       "    </tr>\n",
       "    <tr>\n",
       "      <th>1</th>\n",
       "      <td>2</td>\n",
       "      <td>BA (Geography)</td>\n",
       "      <td>Environmental studies</td>\n",
       "      <td>UGEVS201</td>\n",
       "      <td>Local, Regional, National and Global</td>\n",
       "      <td>Examining historical and current environmental...</td>\n",
       "    </tr>\n",
       "    <tr>\n",
       "      <th>2</th>\n",
       "      <td>3</td>\n",
       "      <td>BA (Geography)</td>\n",
       "      <td>Environmental Science-I</td>\n",
       "      <td>UGESlOl</td>\n",
       "      <td>Local, Regional, National and Global</td>\n",
       "      <td>To make student understand the distribution, u...</td>\n",
       "    </tr>\n",
       "    <tr>\n",
       "      <th>3</th>\n",
       "      <td>4</td>\n",
       "      <td>BA (Geography)</td>\n",
       "      <td>Environmental Science-II</td>\n",
       "      <td>UGES201</td>\n",
       "      <td>Local, Regional, National and Global</td>\n",
       "      <td>Managing waste is critical for preventing envi...</td>\n",
       "    </tr>\n",
       "    <tr>\n",
       "      <th>4</th>\n",
       "      <td>5</td>\n",
       "      <td>BA (Geography)</td>\n",
       "      <td>Fundamentals of Geomorphology</td>\n",
       "      <td>UGGEO101</td>\n",
       "      <td>Local, Regional, National and Global</td>\n",
       "      <td>These geological processes shape the Earth's s...</td>\n",
       "    </tr>\n",
       "  </tbody>\n",
       "</table>\n",
       "</div>"
      ],
      "text/plain": [
       "   SrNo Name Of the Program                 Type of Course      Code  \\\n",
       "0     1      BA (Geography)          Environmental studies  UGEVS101   \n",
       "1     2      BA (Geography)          Environmental studies  UGEVS201   \n",
       "2     3      BA (Geography)        Environmental Science-I   UGESlOl   \n",
       "3     4      BA (Geography)       Environmental Science-II   UGES201   \n",
       "4     5      BA (Geography)  Fundamentals of Geomorphology  UGGEO101   \n",
       "\n",
       "                                   Need  \\\n",
       "0  Local, Regional, National and Global   \n",
       "1  Local, Regional, National and Global   \n",
       "2  Local, Regional, National and Global   \n",
       "3  Local, Regional, National and Global   \n",
       "4  Local, Regional, National and Global   \n",
       "\n",
       "                             Description of the need  \n",
       "0  To make student understand the distribution, u...  \n",
       "1  Examining historical and current environmental...  \n",
       "2  To make student understand the distribution, u...  \n",
       "3  Managing waste is critical for preventing envi...  \n",
       "4  These geological processes shape the Earth's s...  "
      ]
     },
     "execution_count": 2,
     "metadata": {},
     "output_type": "execute_result"
    }
   ],
   "source": [
    "course_data_df = pd.read_csv('Course Relevance Dataset.csv', encoding='latin-1')\n",
    "course_data_df.head()"
   ]
  },
  {
   "cell_type": "code",
   "execution_count": null,
   "id": "d8fb654b-4702-49e9-8be4-fefa50d7dc15",
   "metadata": {},
   "outputs": [],
   "source": []
  }
 ],
 "metadata": {
  "kernelspec": {
   "display_name": "Python 3 (ipykernel)",
   "language": "python",
   "name": "python3"
  },
  "language_info": {
   "codemirror_mode": {
    "name": "ipython",
    "version": 3
   },
   "file_extension": ".py",
   "mimetype": "text/x-python",
   "name": "python",
   "nbconvert_exporter": "python",
   "pygments_lexer": "ipython3",
   "version": "3.11.5"
  }
 },
 "nbformat": 4,
 "nbformat_minor": 5
}
